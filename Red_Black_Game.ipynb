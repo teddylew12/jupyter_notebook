{
 "cells": [
  {
   "cell_type": "markdown",
   "metadata": {},
   "source": [
    "# Red/Black Game\n",
    "\n",
    "**Motivation**\n",
    "I recently took an online coding challenge for a job screening with this problem. I solved it the way I thought was best but felt like I was missing something. So I searched online and found this site <ADD SITE LINK> which has the mathematical explanation of the correct method. So now I'm going to code up that solution and show you!\n",
    "    \n",
    "**Gameplay**\n",
    "You're given a standard 52 card deck, placed faced down.\n",
    "You take a random subset of X of those cards, and you know that there are Y blacks in your hand.\n",
    "You pick up cards one at a time:\n",
    "- If the card was **BLACK** you win $1\n",
    "- If the card was **RED** you lose $1\n",
    "You can stop picking at any time and walk away with your winnings (or losings)\n",
    "\n",
    "The goal is to\n",
    "1) Calculate the expected value of the game, given your current score and the remaining cards\n",
    "2) Create an algorithm to decide when to walk away or when to draw another card"
   ]
  },
  {
   "cell_type": "markdown",
   "metadata": {},
   "source": [
    "## Game Mechanics\n",
    "\n",
    "First, let's code up the game mechanics and run through a few games."
   ]
  },
  {
   "cell_type": "code",
   "execution_count": 11,
   "metadata": {},
   "outputs": [
    {
     "name": "stdout",
     "output_type": "stream",
     "text": [
      "Final Score:0\n"
     ]
    }
   ],
   "source": [
    "#Initial Hands\n",
    "NUM_BLACKS = 26\n",
    "TOTAL_CARDS = 52\n",
    "\n",
    "import numpy as np\n",
    "def draw_card(blacks,total_cards):\n",
    "    '''\n",
    "    To simulate drawing a card we will pick an integer between 0 and #Total_Cards, and if the integer is less than the \n",
    "    #Black_Cards, we picked a Black Card, otherwise we picked a red card.\n",
    "    '''\n",
    "    card = int(np.random.uniform() * total_cards)\n",
    "    if card < blacks:\n",
    "        return True\n",
    "    else:\n",
    "        return False\n",
    "    \n",
    "def update_game(blacks,total_cards,score):\n",
    "    win = draw_card(blacks,total_cards)\n",
    "    if win:\n",
    "        blacks -= 1\n",
    "        score += 1\n",
    "    else:\n",
    "        score -= 1\n",
    "    total_cards -= 1\n",
    "    return blacks, total_cards,score\n",
    "def play_full_game(blacks,total_cards):\n",
    "    score = 0\n",
    "    while total_cards>0:\n",
    "        blacks,total_cards,score=update_game(blacks,total_cards,score)\n",
    "    return score\n",
    "    \n",
    "score = play_full_game(NUM_BLACKS,TOTAL_CARDS)\n",
    "print(f\"Final Score:{score}\")\n",
    "\n",
    "\n",
    "        "
   ]
  },
  {
   "cell_type": "markdown",
   "metadata": {},
   "source": [
    "### Running Multiple Games\n",
    "\n",
    "Now lets run multiple games with different starting cards and test that our gameplay is correct.\n",
    "We know the final score should be ```1*num_blacks + -1* num_reds``` and also noticing that\n",
    "```total_cards - num_blacks == num_reds``` we can find our rule that \n",
    "```final_score =  2*num_blacks - total_cards ```\n",
    "\n",
    "So if we have an even hand where **num_blacks == num_reds**, our score will always be zero\n",
    "\n"
   ]
  },
  {
   "cell_type": "code",
   "execution_count": 13,
   "metadata": {},
   "outputs": [],
   "source": [
    "total_cards = 10\n",
    "for num_blacks in range(10):\n",
    "    score = play_full_game(num_blacks,total_cards)\n",
    "    expected_score = 2*num_blacks - total_cards\n",
    "    assert(score == expected_score) "
   ]
  },
  {
   "cell_type": "markdown",
   "metadata": {},
   "source": [
    "### Implementing an Stopping Rule\n",
    "\n",
    "Now that our game works, lets start to tackle the first challenge of deciding when to stop.\n",
    "\n",
    "Obviously, if there are no black cards left, we shouldnt pick any more cards because we can only lose money. \n",
    "\n",
    "We will also need to alter our gameplay function to allow for the decision.\n",
    "\n",
    "Lets run 100 games and see how this rule helps or hurts our average\n"
   ]
  },
  {
   "cell_type": "code",
   "execution_count": 20,
   "metadata": {},
   "outputs": [
    {
     "name": "stdout",
     "output_type": "stream",
     "text": [
      "[2, 2, 2, 2, 2, 2, 2, 2, 2, 2, 2, 2, 2, 2, 2]\n",
      "Average Score:2.0\n"
     ]
    }
   ],
   "source": [
    "def make_decision(num_blacks,total_cards,score):\n",
    "    if num_blacks == 0:\n",
    "        return False\n",
    "    else:\n",
    "        return True\n",
    "def play_full_game(blacks,total_cards):\n",
    "    score = 0\n",
    "    keep_playing= True\n",
    "    while total_cards>0 and keep_playing:\n",
    "        blacks,total_cards,score=update_game(blacks,total_cards,score)\n",
    "        keep_playing = make_decision(num_blacks,total_cards,score)\n",
    "    return score\n",
    "\n",
    "#Run 100 fair games and average the score\n",
    "num_blacks = 27\n",
    "total_cards = 52\n",
    "score_arr=[]\n",
    "for _ in range(15):num_reds\n",
    "    score_arr.append(play_full_game(num_blacks,total_cards))\n",
    "print(score_arr)\n",
    "print(f\"Average Score:{np.mean(score_arr)}\")"
   ]
  },
  {
   "cell_type": "code",
   "execution_count": null,
   "metadata": {},
   "outputs": [],
   "source": []
  }
 ],
 "metadata": {
  "kernelspec": {
   "display_name": "Python 3",
   "language": "python",
   "name": "python3"
  },
  "language_info": {
   "codemirror_mode": {
    "name": "ipython",
    "version": 3
   },
   "file_extension": ".py",
   "mimetype": "text/x-python",
   "name": "python",
   "nbconvert_exporter": "python",
   "pygments_lexer": "ipython3",
   "version": "3.7.4"
  }
 },
 "nbformat": 4,
 "nbformat_minor": 2
}
